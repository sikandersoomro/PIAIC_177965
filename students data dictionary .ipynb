{
 "cells": [
  {
   "cell_type": "code",
   "execution_count": 9,
   "id": "7426e3e7",
   "metadata": {},
   "outputs": [
    {
     "name": "stdout",
     "output_type": "stream",
     "text": [
      "ALI\n"
     ]
    }
   ],
   "source": [
    "students = []\n",
    "student= {\n",
    "  0: {\n",
    "    \"name\": \"SIKANDER\",\n",
    "    \"class\":\"AI\",\n",
    "    \"Quiz1\":\"Mids\",\n",
    "    \"Quiz2\":\"Final\",\n",
    "  },\n",
    "  1: {\n",
    "    \"name\": \"SARIM\",\n",
    "    \"class\":\"CNC\",\n",
    "    \"Quiz1\":\"Mids\",\n",
    "    \"Quiz2\":\"Final\",\n",
    "  },\n",
    "  2: {\n",
    "    \"name\": \"AMIR\",\n",
    "    \"class\":\"AI\",\n",
    "    \"Quiz1\":\"Mids\",\n",
    "    \"Quiz2\":\"Final\",    \n",
    "  },  \n",
    "  3: {\n",
    "    \"name\": \"MUSTUFA\",\n",
    "    \"class\":\"AI\",\n",
    "    \"Quiz1\":\"Mids\",\n",
    "    \"Quiz2\":\"Final\",\n",
    "  },\n",
    "  4: {\n",
    "    \"name\": \"SAMEER\",\n",
    "    \"class\":\"AI\",\n",
    "    \"Quiz1\":\"Mids\",\n",
    "    \"Quiz2\":\"Final\",\n",
    "  },\n",
    "  5: {\n",
    "    \"name\": \"HUSNAIN\",\n",
    "    \"class\":\"CNC\",\n",
    "    \"Quiz1\":\"Mids\",\n",
    "    \"Quiz2\":\"Final\",    \n",
    "  }, \n",
    "  6: {\n",
    "    \"name\": \"ALI\",\n",
    "    \"class\":\"AI\",\n",
    "    \"Quiz1\":\"Mids\",\n",
    "    \"Quiz2\":\"Final\",\n",
    "  },\n",
    "  7: {\n",
    "    \"name\": \"AHMED\",\n",
    "    \"class\":\"AI\",\n",
    "    \"Quiz1\":\"Mids\",\n",
    "    \"Quiz2\":\"Final\",\n",
    "  },\n",
    "  8: {\n",
    "    \"name\": \"SANA\",\n",
    "    \"class\":\"CNC\",\n",
    "    \"Quiz1\":\"Mids\",\n",
    "    \"Quiz2\":\"Final\",    \n",
    "  },  \n",
    " 9: {\n",
    "    \"name\": \"USMAN\",\n",
    "    \"class\":\"AI\",\n",
    "    \"Quiz1\":\"Mids\",\n",
    "    \"Quiz2\":\"Final\",    \n",
    "  },  \n",
    "}\n",
    "\n",
    "students.append(student)\n",
    "\n",
    "print(student[6][\"name\"])\n"
   ]
  },
  {
   "cell_type": "code",
   "execution_count": null,
   "id": "1a8f9181",
   "metadata": {},
   "outputs": [],
   "source": []
  }
 ],
 "metadata": {
  "kernelspec": {
   "display_name": "Python 3 (ipykernel)",
   "language": "python",
   "name": "python3"
  },
  "language_info": {
   "codemirror_mode": {
    "name": "ipython",
    "version": 3
   },
   "file_extension": ".py",
   "mimetype": "text/x-python",
   "name": "python",
   "nbconvert_exporter": "python",
   "pygments_lexer": "ipython3",
   "version": "3.9.12"
  }
 },
 "nbformat": 4,
 "nbformat_minor": 5
}
