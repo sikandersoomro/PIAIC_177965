{
 "cells": [
  {
   "cell_type": "code",
   "execution_count": 1,
   "id": "2b1e16fe",
   "metadata": {},
   "outputs": [
    {
     "name": "stdout",
     "output_type": "stream",
     "text": [
      "hello Tony stark\n"
     ]
    }
   ],
   "source": [
    "#question no 1\n",
    "\n",
    "name=\"Tony stark\"\n",
    "print(\"hello\", name )"
   ]
  },
  {
   "cell_type": "code",
   "execution_count": 13,
   "id": "3e85334a",
   "metadata": {},
   "outputs": [
    {
     "name": "stdout",
     "output_type": "stream",
     "text": [
      " Michelangelo once said, \n",
      " “I saw the angel in the marble and carved until I set him free.”\n"
     ]
    }
   ],
   "source": [
    "#question no 2\n",
    "\n",
    "quote='“I saw the angel in the marble and carved until I set him free.”'\n",
    "print(\" Michelangelo once said, \\n \" + quote )"
   ]
  },
  {
   "cell_type": "code",
   "execution_count": 16,
   "id": "96e1cb67",
   "metadata": {},
   "outputs": [
    {
     "name": "stdout",
     "output_type": "stream",
     "text": [
      "Enter Number34\n",
      "Number is positive\n",
      "\n"
     ]
    }
   ],
   "source": [
    "#question no 4\n",
    "\n",
    "numbers=float(input(\"Enter Number\"))\n",
    "if(numbers<0):\n",
    "    print(\"Number is Negative\\n\")\n",
    "elif(numbers>0):\n",
    "    print(\"Number is positive\\n\")\n",
    "else:\n",
    "    print(\"Number is zero\\n\")"
   ]
  },
  {
   "cell_type": "code",
   "execution_count": null,
   "id": "3ab933f1",
   "metadata": {},
   "outputs": [],
   "source": [
    "#question no 5\n",
    "\n",
    "letter=input(\"Enter String\\n\")\n",
    "a=letter.lower()\n",
    "if(letter==\"a\" or letter==\"e\" or letter==\"i\" or letter==\"o\" or letter==\"u\"):\n",
    "    print(\"Letter is the Vowel\")\n",
    "else:\n",
    "    print(\"Letter is not a vowel\")"
   ]
  },
  {
   "cell_type": "code",
   "execution_count": null,
   "id": "f66e7116",
   "metadata": {},
   "outputs": [],
   "source": [
    "#question no 6\n",
    "\n",
    "height=float(input(\"Enter HEIGHT IN Centimenter\\n\"))\n",
    "weight=float(input(\"Enter Weight in kg\\n\"))\n",
    "bmi=weight/(height/100)**2\n",
    "print(\"Your BMI is\",bmi,\"kg/m^2\") "
   ]
  },
  {
   "cell_type": "code",
   "execution_count": 21,
   "id": "6ff93017",
   "metadata": {},
   "outputs": [
    {
     "name": "stdout",
     "output_type": "stream",
     "text": [
      "birynai\n",
      "This is desi food\n",
      "Qourma\n",
      "This is desi food\n",
      "Nihari\n",
      "This is desi food\n",
      "pizza\n",
      "This is Jung food\n",
      "burger\n",
      "This is Jung food\n",
      "pasta\n",
      "This is Jung food\n",
      "bread\n",
      "This is B.B.Q\n",
      "Tikka\n",
      "This is B.B.Q\n",
      "Seekh Kabab\n",
      "This is B.B.Q\n",
      "Paratha\n"
     ]
    }
   ],
   "source": [
    "#question no 8\n",
    "\n",
    "foods=[\"birynai\",\"Qourma\",\"Nihari\",\"pizza\",\"burger\",\"pasta\",\"bread\",\"Tikka\",\"Seekh Kabab\",\"Paratha\"]\n",
    "for dish in range(len(foods)):\n",
    "    print(foods[dish])\n",
    "    if (dish<3):\n",
    "        print(\"This is desi food\")\n",
    "    if ((dish>=3) and (dish<6)):\n",
    "        print(\"This is Jung food\")\n",
    "    if ((dish>=6) and (dish<9)):\n",
    "        print(\"This is B.B.Q\")"
   ]
  },
  {
   "cell_type": "code",
   "execution_count": 20,
   "id": "7a460e35",
   "metadata": {},
   "outputs": [
    {
     "name": "stdout",
     "output_type": "stream",
     "text": [
      "Enter Dish:\n",
      "burger\n",
      "Foods= ['birynai', 'Qourma', 'Nihari', 'pizza', 'burger', 'pasta', 'bread', 'Tikka', 'Seekh Kabab', 'Paratha']\n",
      "Friend Food = ['birynai', 'Qourma', 'Nihari', 'pizza', 'burger', 'pasta', 'bread', 'Tikka', 'Seekh Kabab', 'Paratha', 'burger']\n"
     ]
    }
   ],
   "source": [
    "#question no 9\n",
    "\n",
    "foods=[\"birynai\",\"Qourma\",\"Nihari\",\"pizza\",\"burger\",\"pasta\",\"bread\",\"Tikka\",\"Seekh Kabab\",\"Paratha\"]\n",
    "friend_foods=[\"birynai\",\"Qourma\",\"Nihari\",\"pizza\",\"burger\",\"pasta\",\"bread\",\"Tikka\",\"Seekh Kabab\",\"Paratha\"]\n",
    "dish=input(\"Enter Dish:\\n\")\n",
    "friend_foods.append(dish)\n",
    "print (\"Foods=\",foods)\n",
    "print(\"Friend Food =\",friend_foods)"
   ]
  }
 ],
 "metadata": {
  "kernelspec": {
   "display_name": "Python 3 (ipykernel)",
   "language": "python",
   "name": "python3"
  },
  "language_info": {
   "codemirror_mode": {
    "name": "ipython",
    "version": 3
   },
   "file_extension": ".py",
   "mimetype": "text/x-python",
   "name": "python",
   "nbconvert_exporter": "python",
   "pygments_lexer": "ipython3",
   "version": "3.9.12"
  }
 },
 "nbformat": 4,
 "nbformat_minor": 5
}
